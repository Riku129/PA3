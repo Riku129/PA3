{
 "cells": [
  {
   "cell_type": "markdown",
   "id": "23e0043d",
   "metadata": {},
   "source": [
    "# Adham Howaidy\n",
    "\n",
    "### Programming Assignment 3\n",
    "\n",
    "### CS150-01\n",
    "\n",
    "### Computer Programming for the Liberal Arts\n",
    "\n",
    "### Fall 2021\n",
    "\n",
    "### Pyhton V3"
   ]
  },
  {
   "cell_type": "code",
   "execution_count": 53,
   "id": "e0255606",
   "metadata": {},
   "outputs": [
    {
     "name": "stdout",
     "output_type": "stream",
     "text": [
      "Enter the first side of the triangle : 3\n",
      "Enter the second side of the triangle : 4\n",
      "Enter the third side of the triangle : 5\n",
      "The area of the triangle is approximately 30.0 square units\n",
      "The perimeter of the triangle is 12 linear units\n"
     ]
    }
   ],
   "source": [
    "s1 = int(input(\"Enter the first side of the triangle : \"))\n",
    "s2 = int(input(\"Enter the second side of the triangle : \"))\n",
    "s3 = int(input(\"Enter the third side of the triangle : \"))\n",
    "def calcArea():\n",
    "    area = (s1)*(s2)*(s3)*0.5\n",
    "    return area\n",
    "def calcPerimeter():\n",
    "    p = (s1 + s2 + s3)\n",
    "    return p\n",
    "print(\"The area of the triangle is approximately\", calcArea(), \"square units\")\n",
    "print(\"The perimeter of the triangle is\", calcPerimeter(), \"linear units\")"
   ]
  },
  {
   "cell_type": "code",
   "execution_count": 49,
   "id": "c3a2c58b",
   "metadata": {},
   "outputs": [
    {
     "name": "stdout",
     "output_type": "stream",
     "text": [
      "Enter any number from 1 to 1000:200\n",
      "Too high! Guess again\n",
      "Enter any number from 1 to 1000:300\n",
      "Too high! Guess again\n",
      "Enter any number from 1 to 1000:400\n",
      "Too high! Guess again\n",
      "Enter any number from 1 to 1000:500\n",
      "Too high! Guess again\n",
      "Enter any number from 1 to 1000:100\n",
      "Too high! Guess again\n",
      "Enter any number from 1 to 1000:50\n",
      "Too low! Guess again\n",
      "Enter any number from 1 to 1000:60\n",
      "Too high! Guess again\n",
      "Enter any number from 1 to 1000:55\n",
      "Correct!\n",
      "\n"
     ]
    }
   ],
   "source": [
    "def Guess_the_Number():\n",
    "    import random\n",
    "    number = random.randint(1, 1000)\n",
    "    evaluate_Guess = None\n",
    "    time = 0\n",
    "    output = \"\"\n",
    "    \n",
    "    while evaluate_Guess != number:\n",
    "        evaluate_Guess = int(input(\"Enter any number from 1 to 1000:\"))\n",
    "        if evaluate_Guess > number:\n",
    "            print(\"Too high! Guess again\")\n",
    "        \n",
    "        if evaluate_Guess < number:\n",
    "            print(\"Too low! Guess again\")\n",
    "        \n",
    "        if evaluate_Guess == number:\n",
    "            print(\"Correct!\")\n",
    "            return output\n",
    "\n",
    "print(Guess_the_Number())"
   ]
  },
  {
   "cell_type": "code",
   "execution_count": 57,
   "id": "15612aa5",
   "metadata": {},
   "outputs": [
    {
     "name": "stdout",
     "output_type": "stream",
     "text": [
      "How many Temperatures?: 3\n",
      "Enter the Temperature : 54\n",
      "Enter the Temperature : 56\n",
      "Enter the Temperature : 67\n",
      "The mean temperature for the past 3 days is 59.0 degrees F\n"
     ]
    }
   ],
   "source": [
    "def meanTemp(num):\n",
    "    total_sum = 0\n",
    "    for n in range(num):\n",
    "        numbers = float(input('Enter the Temperature : '))\n",
    "        total_sum = total_sum + numbers\n",
    "        avg = total_sum/num\n",
    "        numbers = int(numbers)\n",
    "    return avg\n",
    "\n",
    "int(input('How many Temperatures?: '))\n",
    "avg = meanTemp(3)\n",
    "print('The mean temperature for the past', num, 'days is', avg, 'degrees F')"
   ]
  }
 ],
 "metadata": {
  "kernelspec": {
   "display_name": "Python 3",
   "language": "python",
   "name": "python3"
  },
  "language_info": {
   "codemirror_mode": {
    "name": "ipython",
    "version": 3
   },
   "file_extension": ".py",
   "mimetype": "text/x-python",
   "name": "python",
   "nbconvert_exporter": "python",
   "pygments_lexer": "ipython3",
   "version": "3.8.8"
  }
 },
 "nbformat": 4,
 "nbformat_minor": 5
}
